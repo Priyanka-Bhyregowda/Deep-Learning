{
  "nbformat": 4,
  "nbformat_minor": 0,
  "metadata": {
    "colab": {
      "provenance": []
    },
    "kernelspec": {
      "name": "python3",
      "display_name": "Python 3"
    },
    "language_info": {
      "name": "python"
    }
  },
  "cells": [
    {
      "cell_type": "code",
      "source": [
        "import torch\n",
        "import torch.nn as nn\n",
        "import torch.optim as optim\n",
        "import torchvision\n",
        "from torchvision import transforms,datasets\n",
        "from torch.utils.data import DataLoader,random_split\n",
        "import matplotlib.pyplot as plt\n",
        "import pandas as pd\n",
        "from PIL import Image\n",
        "import numpy as np"
      ],
      "metadata": {
        "id": "lHEVD4SzOO9I"
      },
      "execution_count": 1,
      "outputs": []
    },
    {
      "cell_type": "markdown",
      "source": [
        "**Creating Custom dataset having 3 categories from CIFAR100**\n"
      ],
      "metadata": {
        "id": "Gr4KEyxBAzMp"
      }
    },
    {
      "cell_type": "code",
      "source": [
        "from torchvision.datasets import CIFAR10\n",
        "\n",
        "# Load CIFAR100 dataset\n",
        "cifar10_train = CIFAR10(root='./data', train=True, download=True)\n",
        "\n"
      ],
      "metadata": {
        "colab": {
          "base_uri": "https://localhost:8080/"
        },
        "id": "D9ud8pBIOO5X",
        "outputId": "d8ef439c-46d3-4a24-8708-d96f97ff7011"
      },
      "execution_count": 2,
      "outputs": [
        {
          "output_type": "stream",
          "name": "stdout",
          "text": [
            "Downloading https://www.cs.toronto.edu/~kriz/cifar-10-python.tar.gz to ./data/cifar-10-python.tar.gz\n"
          ]
        },
        {
          "output_type": "stream",
          "name": "stderr",
          "text": [
            "100%|██████████| 170498071/170498071 [00:01<00:00, 85363812.40it/s]\n"
          ]
        },
        {
          "output_type": "stream",
          "name": "stdout",
          "text": [
            "Extracting ./data/cifar-10-python.tar.gz to ./data\n"
          ]
        }
      ]
    },
    {
      "cell_type": "code",
      "source": [
        "# Print category numbers and classes\n",
        "for category_number, class_name in enumerate(cifar10_train.classes):\n",
        "    print(f\"{category_number}: {class_name}\")"
      ],
      "metadata": {
        "colab": {
          "base_uri": "https://localhost:8080/"
        },
        "id": "XOzo2-BUOO2K",
        "outputId": "0a568336-631e-4ffc-eec3-81713f84badf"
      },
      "execution_count": 3,
      "outputs": [
        {
          "output_type": "stream",
          "name": "stdout",
          "text": [
            "0: airplane\n",
            "1: automobile\n",
            "2: bird\n",
            "3: cat\n",
            "4: deer\n",
            "5: dog\n",
            "6: frog\n",
            "7: horse\n",
            "8: ship\n",
            "9: truck\n"
          ]
        }
      ]
    },
    {
      "cell_type": "code",
      "source": [
        "# Custom categories i have considered [cat,deer,dog]\n",
        "custom_categories = [3,4,5]\n"
      ],
      "metadata": {
        "id": "A0xBTtgqOOzZ"
      },
      "execution_count": 4,
      "outputs": []
    },
    {
      "cell_type": "code",
      "source": [
        "# Filter data based on custom categories\n",
        "custom_dataset = [(img, label) for img, label in cifar10_train if label in custom_categories]\n"
      ],
      "metadata": {
        "id": "wyeC_eNhOOvy"
      },
      "execution_count": 5,
      "outputs": []
    },
    {
      "cell_type": "markdown",
      "source": [
        "**Count of images in each category**"
      ],
      "metadata": {
        "id": "NH8sx1GfDOS7"
      }
    },
    {
      "cell_type": "code",
      "source": [
        "# Store and print the count of each category\n",
        "category_count = {category: 0 for category in custom_categories}\n",
        "\n",
        "for _, label in custom_dataset:\n",
        "    category_count[label] += 1\n",
        "\n",
        "for category, count in category_count.items():\n",
        "    print(f\"Category {category}: {count} images\")"
      ],
      "metadata": {
        "colab": {
          "base_uri": "https://localhost:8080/"
        },
        "id": "hJ0rPm7lOOry",
        "outputId": "5b9f60fc-3777-4283-8f2b-f791dab50aaa"
      },
      "execution_count": 6,
      "outputs": [
        {
          "output_type": "stream",
          "name": "stdout",
          "text": [
            "Category 3: 5000 images\n",
            "Category 4: 5000 images\n",
            "Category 5: 5000 images\n"
          ]
        }
      ]
    },
    {
      "cell_type": "markdown",
      "source": [
        "**Split this data between 80% training and 20% test**"
      ],
      "metadata": {
        "id": "otEsWkQcE9II"
      }
    },
    {
      "cell_type": "code",
      "source": [
        "#Split data between 80% training and 20% test\n",
        "dataset_size = len(custom_dataset)\n",
        "train_size = int(0.8 * dataset_size)\n",
        "test_size = dataset_size - train_size\n",
        "\n",
        "train_data, test_data = random_split(custom_dataset, [train_size, test_size])\n",
        "\n"
      ],
      "metadata": {
        "id": "7iSNy3fjOObq"
      },
      "execution_count": 7,
      "outputs": []
    },
    {
      "cell_type": "code",
      "source": [
        "len(train_data)"
      ],
      "metadata": {
        "colab": {
          "base_uri": "https://localhost:8080/"
        },
        "id": "DASdEKdcOOTK",
        "outputId": "93794881-794c-40e0-dc48-21fe0242c681"
      },
      "execution_count": 8,
      "outputs": [
        {
          "output_type": "execute_result",
          "data": {
            "text/plain": [
              "12000"
            ]
          },
          "metadata": {},
          "execution_count": 8
        }
      ]
    },
    {
      "cell_type": "code",
      "source": [
        "len(test_data)"
      ],
      "metadata": {
        "colab": {
          "base_uri": "https://localhost:8080/"
        },
        "id": "ngLQ9CrwOONk",
        "outputId": "520356e1-f2c0-4a02-b230-98c2e036573b"
      },
      "execution_count": 9,
      "outputs": [
        {
          "output_type": "execute_result",
          "data": {
            "text/plain": [
              "3000"
            ]
          },
          "metadata": {},
          "execution_count": 9
        }
      ]
    },
    {
      "cell_type": "markdown",
      "source": [
        "**Preprocess the data as you see fit**"
      ],
      "metadata": {
        "id": "DYAAilmSFEx7"
      }
    },
    {
      "cell_type": "code",
      "source": [
        "# Calculate mean and standard deviation for normalization\n",
        "def calculate_mean_std(dataset):\n",
        "    # Assuming dataset is a list of (image, label) tuples\n",
        "    images = [image for image, label in dataset]\n",
        "    stacked_images = torch.stack([transforms.ToTensor()(image) for image in images], dim=0)\n",
        "    mean = stacked_images.mean(dim=(0, 2, 3))\n",
        "    std = stacked_images.std(dim=(0, 2, 3))\n",
        "    return mean, std\n",
        "\n",
        "# Calculate mean and std for the training dataset\n",
        "mean, std = calculate_mean_std(train_data)\n",
        "print(\"Mean:\", mean)\n",
        "print(\"Std:\", std)\n",
        "\n",
        "# Apply normalization to the transformation\n",
        "transform = transforms.Compose([\n",
        "    transforms.ToTensor(),\n",
        "    transforms.Normalize(mean, std),\n",
        "])\n",
        "\n",
        "# Apply transformations to the datasets\n",
        "train_dataset = [(transform(image), label) for image, label in train_data]\n",
        "test_dataset = [(transform(image), label) for image, label in test_data]\n"
      ],
      "metadata": {
        "colab": {
          "base_uri": "https://localhost:8080/"
        },
        "id": "4OdBR2IqE5cX",
        "outputId": "e1171bf8-e2b0-43e6-f41c-23b3ad0ac7b3"
      },
      "execution_count": 10,
      "outputs": [
        {
          "output_type": "stream",
          "name": "stdout",
          "text": [
            "Mean: tensor([0.4886, 0.4619, 0.4030])\n",
            "Std: tensor([0.2425, 0.2350, 0.2408])\n"
          ]
        }
      ]
    },
    {
      "cell_type": "markdown",
      "source": [
        "**# Step 4: Create a Convolutional Neural Network model**"
      ],
      "metadata": {
        "id": "WzHGoTbP2TrW"
      }
    },
    {
      "cell_type": "code",
      "source": [
        "import torch.nn.functional as F\n",
        "\n",
        "class CNN_model(nn.Module):\n",
        "    def __init__(self, num_classes):\n",
        "        super(CNN_model, self).__init__()\n",
        "        self.conv1 = nn.Conv2d(3, 32, kernel_size=3, stride=1, padding=1)\n",
        "        self.pool = nn.MaxPool2d(2, 2)\n",
        "        self.conv2 = nn.Conv2d(32, 64, kernel_size=3, stride=1, padding=1)\n",
        "        self.fc1 = nn.Linear(64 * 8 * 8, 128)\n",
        "        self.fc2 = nn.Linear(128, 3)  # 3 custom categories\n",
        "\n",
        "    def forward(self, x):\n",
        "        x = self.pool(F.relu(self.conv1(x)))\n",
        "        x = self.pool(F.relu(self.conv2(x)))\n",
        "        x = x.view(-1, 64 * 8 * 8)\n",
        "        x = F.relu(self.fc1(x))\n",
        "        x = self.fc2(x)\n",
        "        return x"
      ],
      "metadata": {
        "id": "Ugh-YK4mE5Y5"
      },
      "execution_count": 11,
      "outputs": []
    },
    {
      "cell_type": "markdown",
      "source": [
        "**Train the CNN model**"
      ],
      "metadata": {
        "id": "deqy3bg3JeX2"
      }
    },
    {
      "cell_type": "code",
      "source": [
        "# Train DataLoader\n",
        "train_loader = DataLoader(train_dataset, batch_size=64, shuffle=True)\n",
        "\n",
        "# Map CIFAR-10 labels to continuous range [0, num_classes-1]\n",
        "label_mapping = {label: i for i, label in enumerate(custom_categories)}\n",
        "\n",
        "\n",
        "# Initialize the model, loss function, and optimizer\n",
        "\n",
        "num_classes = len(custom_categories)\n",
        "\n",
        "# Initialize the model with the correct number of classes\n",
        "cnn_model = CNN_model(num_classes)\n",
        "criterion = nn.CrossEntropyLoss()\n",
        "optimizer = optim.Adam(cnn_model.parameters(), lr=0.001)\n",
        "\n",
        "\n",
        "# Train the model\n",
        "for epoch in range(10):  # Number of epochs\n",
        "    for inputs, labels in train_loader:\n",
        "      # Remap labels to continuous range [0, num_classes-1]\n",
        "        labels = torch.tensor([label_mapping[label.item()] for label in labels])\n",
        "\n",
        "        optimizer.zero_grad()\n",
        "        outputs = cnn_model(inputs)\n",
        "        loss = criterion(outputs, labels)\n",
        "        loss.backward()\n",
        "        optimizer.step()\n"
      ],
      "metadata": {
        "id": "eivgYKPlE5Vs"
      },
      "execution_count": 12,
      "outputs": []
    },
    {
      "cell_type": "markdown",
      "source": [
        "**Make predictions on the test data and compare them to the expected categories**"
      ],
      "metadata": {
        "id": "ANJQN387ZlAF"
      }
    },
    {
      "cell_type": "code",
      "source": [
        "def denormalize(image):\n",
        "    mean = np.array([0.4885, 0.4617, 0.4028])\n",
        "    std = np.array([0.2422, 0.2348, 0.2406])\n",
        "    image = std * image + mean\n",
        "    image = np.clip(image, 0, 1)\n",
        "    return image"
      ],
      "metadata": {
        "id": "vScrUsa0xkZZ"
      },
      "execution_count": 14,
      "outputs": []
    },
    {
      "cell_type": "code",
      "source": [
        "# Choose a specific image index to visualize\n",
        "specific_index = 0"
      ],
      "metadata": {
        "id": "LtFvZstFxoTb"
      },
      "execution_count": 29,
      "outputs": []
    },
    {
      "cell_type": "code",
      "source": [
        "from tqdm import tqdm\n",
        "\n",
        "#Define Test Dataloader\n",
        "\n",
        "test_loader = DataLoader(test_dataset, batch_size=32, shuffle=False)\n",
        "\n",
        "cnn_model.eval()\n",
        "correct = 0\n",
        "total = 0\n",
        "\n",
        "with torch.no_grad():\n",
        "    for i, (inputs, labels) in enumerate(tqdm(test_loader)):\n",
        "        labels = torch.tensor([label_mapping[label.item()] for label in labels])\n",
        "        outputs = cnn_model(inputs)\n",
        "        _, predicted = torch.max(outputs.data, 1)\n",
        "        total += labels.size(0)\n",
        "        correct += (predicted == labels).sum().item()\n",
        "\n",
        "        if i == specific_index:\n",
        "            # Visualize the specific test image\n",
        "            img = denormalize(inputs[0].permute(1, 2, 0).numpy())  # Denormalize before changing to numpy array\n",
        "            true_label = custom_categories[labels[0].item()]\n",
        "            predicted_label = custom_categories[predicted[0].item()]\n",
        "\n",
        "            plt.figure(figsize=(1,1))\n",
        "            plt.imshow(img)\n",
        "            plt.title(f'True Label: {true_label}, Predicted Label: {predicted_label}')\n",
        "            plt.show()\n",
        "\n",
        "accuracy = correct / total\n",
        "print(f'\\nTest Accuracy: {accuracy * 100:.2f}%')\n",
        "\n",
        "\n"
      ],
      "metadata": {
        "colab": {
          "base_uri": "https://localhost:8080/",
          "height": 229
        },
        "id": "ChSH06WNZirl",
        "outputId": "eca1b8e2-0e84-48ed-9d3d-25b28e0ce58f"
      },
      "execution_count": 30,
      "outputs": [
        {
          "output_type": "stream",
          "name": "stderr",
          "text": [
            "\r  0%|          | 0/94 [00:00<?, ?it/s]"
          ]
        },
        {
          "output_type": "display_data",
          "data": {
            "text/plain": [
              "<Figure size 100x100 with 1 Axes>"
            ],
            "image/png": "[encoded data removed]"
          },
          "metadata": {}
        },
        {
          "output_type": "stream",
          "name": "stderr",
          "text": [
            "100%|██████████| 94/94 [00:01<00:00, 59.89it/s]"
          ]
        },
        {
          "output_type": "stream",
          "name": "stdout",
          "text": [
            "\n",
            "Test Accuracy: 71.00%\n"
          ]
        },
        {
          "output_type": "stream",
          "name": "stderr",
          "text": [
            "\n"
          ]
        }
      ]
    },
    {
      "cell_type": "markdown",
      "source": [
        "**Use GoogleNet(InceptionNet) and add a LinearLayer on top of it.**"
      ],
      "metadata": {
        "id": "LBmsCPGXOB6u"
      }
    },
    {
      "cell_type": "code",
      "source": [
        "from torchvision import models\n",
        "\n",
        "class GoogleNetWithLinear(nn.Module):\n",
        "    def __init__(self, num_classes):\n",
        "        super(GoogleNetWithLinear, self).__init__()\n",
        "        self.googlenet = models.googlenet(pretrained=True, aux_logits=True)\n",
        "        in_features = self.googlenet.fc.in_features\n",
        "        self.googlenet.fc = nn.Linear(in_features, num_classes)\n",
        "\n",
        "    def forward(self, x):\n",
        "        return self.googlenet(x)\n",
        "\n",
        "# Initialize GoogleNet model, loss function, and optimizer\n",
        "google_net_model = GoogleNetWithLinear(num_classes)\n",
        "criterion = nn.CrossEntropyLoss()\n",
        "optimizer = optim.SGD(google_net_model.parameters(), lr=0.001, momentum=0.9)\n"
      ],
      "metadata": {
        "colab": {
          "base_uri": "https://localhost:8080/"
        },
        "id": "sr_QKdsLE5SZ",
        "outputId": "1966bf47-ee64-4a8f-f914-904a5ca4b7aa"
      },
      "execution_count": 31,
      "outputs": [
        {
          "output_type": "stream",
          "name": "stderr",
          "text": [
            "/usr/local/lib/python3.10/dist-packages/torchvision/models/_utils.py:208: UserWarning: The parameter 'pretrained' is deprecated since 0.13 and may be removed in the future, please use 'weights' instead.\n",
            "  warnings.warn(\n",
            "/usr/local/lib/python3.10/dist-packages/torchvision/models/_utils.py:223: UserWarning: Arguments other than a weight enum or `None` for 'weights' are deprecated since 0.13 and may be removed in the future. The current behavior is equivalent to passing `weights=GoogLeNet_Weights.IMAGENET1K_V1`. You can also use `weights=GoogLeNet_Weights.DEFAULT` to get the most up-to-date weights.\n",
            "  warnings.warn(msg)\n",
            "Downloading: \"https://download.pytorch.org/models/googlenet-1378be20.pth\" to /root/.cache/torch/hub/checkpoints/googlenet-1378be20.pth\n",
            "100%|██████████| 49.7M/49.7M [00:00<00:00, 193MB/s]\n",
            "/usr/local/lib/python3.10/dist-packages/torchvision/models/googlenet.py:341: UserWarning: auxiliary heads in the pretrained googlenet model are NOT pretrained, so make sure to train them\n",
            "  warnings.warn(\n"
          ]
        }
      ]
    },
    {
      "cell_type": "code",
      "source": [
        "from tqdm import tqdm\n",
        "\n",
        "# Training\n",
        "for epoch in range(10):\n",
        "    google_net_model.train()\n",
        "    for inputs, labels in tqdm(train_loader):\n",
        "        labels = torch.tensor([label_mapping[label.item()] for label in labels])\n",
        "        optimizer.zero_grad()\n",
        "        outputs = google_net_model(inputs)\n",
        "        logits = outputs.logits  # Access the logits from GoogLeNetOutputs\n",
        "        loss = criterion(logits, labels)\n",
        "        loss.backward()\n",
        "        optimizer.step()\n",
        "\n",
        "# Testing\n",
        "correct = 0\n",
        "total = 0\n",
        "\n",
        "with torch.no_grad():\n",
        "    for inputs, labels in tqdm(test_loader):\n",
        "        labels = torch.tensor([label_mapping[label.item()] for label in labels])\n",
        "        outputs = google_net_model(inputs)\n",
        "        logits = outputs.logits\n",
        "        _, predicted = torch.max(logits.data, 1)\n",
        "        total += labels.size(0)\n",
        "        correct += (predicted == labels).sum().item()\n",
        "\n",
        "accuracy_google_net = correct / total\n",
        "print(f'\\nGoogleNet Test Accuracy: {accuracy_google_net * 100:.2f}%')\n"
      ],
      "metadata": {
        "colab": {
          "base_uri": "https://localhost:8080/"
        },
        "id": "R-iEHOd1E5O6",
        "outputId": "d5a7c9d1-8a82-48a3-961c-e746377fc083"
      },
      "execution_count": 32,
      "outputs": [
        {
          "output_type": "stream",
          "name": "stderr",
          "text": [
            "100%|██████████| 188/188 [01:12<00:00,  2.58it/s]\n",
            "100%|██████████| 188/188 [01:11<00:00,  2.65it/s]\n",
            "100%|██████████| 188/188 [01:10<00:00,  2.66it/s]\n",
            "100%|██████████| 188/188 [01:11<00:00,  2.61it/s]\n",
            "100%|██████████| 188/188 [01:10<00:00,  2.65it/s]\n",
            "100%|██████████| 188/188 [01:10<00:00,  2.65it/s]\n",
            "100%|██████████| 188/188 [01:12<00:00,  2.60it/s]\n",
            "100%|██████████| 188/188 [01:10<00:00,  2.65it/s]\n",
            "100%|██████████| 188/188 [01:10<00:00,  2.66it/s]\n",
            "100%|██████████| 188/188 [01:10<00:00,  2.65it/s]\n",
            "100%|██████████| 94/94 [00:09<00:00, 10.37it/s]"
          ]
        },
        {
          "output_type": "stream",
          "name": "stdout",
          "text": [
            "\n",
            "GoogleNet Test Accuracy: 72.53%\n"
          ]
        },
        {
          "output_type": "stream",
          "name": "stderr",
          "text": [
            "\n"
          ]
        }
      ]
    },
    {
      "cell_type": "markdown",
      "source": [
        "Test Accuracy of CNN model is 71% whereas the test accuracy of GoogleNet model is 72.53%.\n"
      ],
      "metadata": {
        "id": "9Ca7Oz7KIamp"
      }
    },
    {
      "cell_type": "markdown",
      "source": [
        "GitHub Link:   https://github.com/Priyanka-Bhyregowda/Deep-Learning"
      ],
      "metadata": {
        "id": "r0xUJUoa7TzZ"
      }
    }
  ]
}